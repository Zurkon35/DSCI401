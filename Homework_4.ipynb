{
  "nbformat": 4,
  "nbformat_minor": 0,
  "metadata": {
    "colab": {
      "provenance": [],
      "authorship_tag": "ABX9TyPlGBTFzTP+p92RJuQRT2Yi",
      "include_colab_link": true
    },
    "kernelspec": {
      "name": "python3",
      "display_name": "Python 3"
    },
    "language_info": {
      "name": "python"
    }
  },
  "cells": [
    {
      "cell_type": "markdown",
      "metadata": {
        "id": "view-in-github",
        "colab_type": "text"
      },
      "source": [
        "<a href=\"https://colab.research.google.com/github/Zurkon35/DSCI401/blob/main/Homework_4.ipynb\" target=\"_parent\"><img src=\"https://colab.research.google.com/assets/colab-badge.svg\" alt=\"Open In Colab\"/></a>"
      ]
    },
    {
      "cell_type": "code",
      "execution_count": null,
      "metadata": {
        "id": "ljhPr3As39Nn"
      },
      "outputs": [],
      "source": [
        "import numpy as np\n",
        "import pandas as pd\n",
        "import matplotlib.pyplot as plt\n",
        "import seaborn as sns\n",
        "Help = pd.read_csv('https://raw.githubusercontent.com/gjm112/DSCI401/main/data/HELPrct.csv')"
      ]
    },
    {
      "cell_type": "code",
      "source": [
        "# Question 1a\n",
        "\n",
        "numeric_cols = Help.select_dtypes(include='number')\n",
        "mean = numeric_cols.mean()\n",
        "print(mean)"
      ],
      "metadata": {
        "id": "VRrInvBMBUdH"
      },
      "execution_count": null,
      "outputs": []
    },
    {
      "cell_type": "code",
      "source": [
        "# Question 1b\n",
        "Help[\"age_group\"] = pd.cut(Help[\"age\"], bins=range(0, Help[\"age\"].max() + 11, 10), right=False)\n",
        "result_b = Help.groupby([\"sex\", \"age_group\"]).mean(numeric_only=True)\n",
        "print(result_b)\n",
        "\n",
        "\n"
      ],
      "metadata": {
        "id": "Yw0G_F5JB8SN"
      },
      "execution_count": null,
      "outputs": []
    },
    {
      "cell_type": "code",
      "source": [
        "# Question 1c\n",
        "age_bins = [0, 10, 20, 30, 40, 50]\n",
        "age_labels = ['0-10', '10-20', '20-30', '30-40', '40-50']\n",
        "\n",
        "Help['age_group'] = pd.cut(Help['age'], bins=age_bins, labels=age_labels)\n",
        "\n",
        "numeric_vals = set(result_b.columns) - set([\"age\", \"sex\"])\n",
        "g = []\n",
        "for var in numeric_vals:\n",
        "    plot = result_b.plot(x=\"age\", y=var, title=\"Avg Age vs. \" + var)\n",
        "    plot.set_xlabel(\"Avg Age\")\n",
        "    plot.set_ylabel(var)\n",
        "    plot.set_yscale(\"linear\")\n",
        "    plot.legend([\"Male\", \"Female\"])\n",
        "    g.append(plot)\n",
        "\n",
        "plt.show()"
      ],
      "metadata": {
        "id": "M5GqGJOUB9wY"
      },
      "execution_count": null,
      "outputs": []
    },
    {
      "cell_type": "code",
      "source": [
        "# Question 2\n",
        "Teams = pd.read_csv(\"https://raw.githubusercontent.com/gjm112/DSCI401/main/data/Teams.csv\")\n",
        "\n",
        "bk_teams = [\"BR1\", \"BR2\", \"BR3\", \"BR4\", \"BRO\", \"BRP\", \"BRF\"]\n",
        "\n",
        "def count(team):\n",
        "    return Teams[Teams[\"teamID\"] == team].shape[0]\n",
        "\n",
        "result = list(map(count, bk_teams))\n",
        "result\n"
      ],
      "metadata": {
        "colab": {
          "base_uri": "https://localhost:8080/"
        },
        "id": "vIk7uFY6B-1o",
        "outputId": "d3007e30-6e16-43fc-b675-c0229663ddfc"
      },
      "execution_count": null,
      "outputs": [
        {
          "output_type": "execute_result",
          "data": {
            "text/plain": [
              "[1, 4, 6, 1, 68, 1, 2]"
            ]
          },
          "metadata": {},
          "execution_count": 10
        }
      ]
    }
  ]
}