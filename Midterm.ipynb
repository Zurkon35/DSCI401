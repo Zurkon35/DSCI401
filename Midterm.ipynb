{
  "nbformat": 4,
  "nbformat_minor": 0,
  "metadata": {
    "colab": {
      "provenance": [],
      "authorship_tag": "ABX9TyNQYliwfxfvCMLCVT5lN1G/",
      "include_colab_link": true
    },
    "kernelspec": {
      "name": "python3",
      "display_name": "Python 3"
    },
    "language_info": {
      "name": "python"
    }
  },
  "cells": [
    {
      "cell_type": "markdown",
      "metadata": {
        "id": "view-in-github",
        "colab_type": "text"
      },
      "source": [
        "<a href=\"https://colab.research.google.com/github/Zurkon35/DSCI401/blob/main/Midterm.ipynb\" target=\"_parent\"><img src=\"https://colab.research.google.com/assets/colab-badge.svg\" alt=\"Open In Colab\"/></a>"
      ]
    },
    {
      "cell_type": "code",
      "execution_count": null,
      "metadata": {
        "id": "58kId6f4BeRY"
      },
      "outputs": [],
      "source": [
        "import pandas as pd\n",
        "import numpy as np\n",
        "import matplotlib.pyplot as plt\n",
        "import seaborn as sns\n",
        "from datetime import datetime\n",
        "employee = pd.read_csv(\"https://raw.githubusercontent.com/gjm112/DSCI401/main/data/Employee.csv\")\n",
        "stops = pd.read_csv(\"https://raw.githubusercontent.com/gjm112/DSCI401/main/data/CTA_List_of_L_Stops.csv\")\n",
        "entries = pd.read_csv(\"https://raw.githubusercontent.com/gjm112/DSCI401/main/data/CTA_entries.csv\")"
      ]
    },
    {
      "cell_type": "code",
      "source": [
        "# Question 1a\n",
        "\n",
        "female = employee[employee['Gender'] == 'Female'].groupby('Education')\n",
        "male = employee[employee['Gender'] == 'Male'].groupby('Education')\n",
        "\n",
        "print(female)\n",
        "print(male)"
      ],
      "metadata": {
        "id": "tXvYOHLPCNyf"
      },
      "execution_count": null,
      "outputs": []
    },
    {
      "cell_type": "code",
      "source": [
        "# Question 1b\n",
        "\n",
        "hire = employee.groupby([\"City\", \"JoiningYear\"]).size().reset_index(name='hires')\n",
        "hire = hire.sort_values(by=[\"City\", \"JoiningYear\"])\n",
        "\n",
        "g = hire.plot(x = \"JoiningYear\", y = \"hires\")\n",
        "g.set_xlabel(\"Year Joined\")\n",
        "g.set_ylabel(\"Total Hires\")\n",
        "plt.show()\n",
        "\n",
        "# When I added color = \"City\" I kept getting an error"
      ],
      "metadata": {
        "id": "p60hao0YCmSE"
      },
      "execution_count": null,
      "outputs": []
    },
    {
      "cell_type": "code",
      "source": [
        "# Question 1c\n",
        "\n",
        "gg = sns.FacetGrid(employee, col = \"City\", row = \"Education\")\n",
        "gg.map(sns.boxplot, \"Age\", \"City\")\n"
      ],
      "metadata": {
        "id": "Hyy8omWsDK-V"
      },
      "execution_count": null,
      "outputs": []
    },
    {
      "cell_type": "code",
      "source": [
        "# Question 1d\n",
        "\n",
        "year_ratio = employee.groupby('Education') \\\n",
        "    .apply(lambda x: x.assign(n = len(x))) \\\n",
        "    .groupby(['JoiningYear'], as_index=False) \\\n",
        "    .apply(lambda x: x.assign(ratio = len(x)/x['n'].iloc[0])) \\\n",
        "    .reset_index(drop=True) \\\n",
        "    .groupby('JoiningYear', as_index=False, group_keys=False) \\\n",
        "    .apply(lambda x: x)\n",
        "\n",
        "\n",
        "print(year_ratio)"
      ],
      "metadata": {
        "id": "MIkvpNSODmQW"
      },
      "execution_count": null,
      "outputs": []
    },
    {
      "cell_type": "code",
      "source": [
        "# Question 1d cont...\n",
        "\n",
        "city_ratio = employee.groupby('Education') \\\n",
        "    .apply(lambda x: x.assign(n = len(x))) \\\n",
        "    .groupby(['City'], as_index=False) \\\n",
        "    .apply(lambda x: x.assign(ratio = len(x)/x['n'].iloc[0])) \\\n",
        "    .reset_index(drop=True) \\\n",
        "    .groupby('City', as_index=False, group_keys=False) \\\n",
        "    .apply(lambda x: x)\n",
        "\n",
        "print(city_ratio)"
      ],
      "metadata": {
        "id": "oms2xkufqpYu"
      },
      "execution_count": null,
      "outputs": []
    },
    {
      "cell_type": "code",
      "source": [
        "# Question 2a\n",
        "\n",
        "stops['RED'] = stops['RED'].astype(int)\n",
        "red = stops[['RED', 'MAP_ID']].loc[stops['RED'] == 1]\n",
        "entries_1 = entries.drop([2])\n",
        "entries_red = red.merge(entries_1, left_on='MAP_ID', right_on='station_id')\n",
        "\n",
        "print(entries_red)\n"
      ],
      "metadata": {
        "id": "k3qNI6XfdQNU"
      },
      "execution_count": null,
      "outputs": []
    },
    {
      "cell_type": "code",
      "source": [
        "# Question 2b\n",
        "\n",
        "entries_red['date'] = pd.to_datetime(entries_red['date'], format='%m/%d/%Y')\n",
        "entries_red['Year'] = entries_red['date'].dt.year\n",
        "entries_red['Month'] = entries_red['date'].dt.month\n",
        "\n",
        "avg_rides_station = entries_red.groupby('station_id').agg(Avg_rides_day=('rides', 'mean'), total_rides=('rides', 'sum')).reset_index().sort_values(by='Avg_rides_day', ascending=False)\n",
        "avg_rides_month = entries_red.groupby(['station_id', 'Year', 'Month']).agg(avg_rides_m=('rides', 'mean')).reset_index()\n",
        "\n",
        "print(avg_rides_station)\n",
        "print(avg_rides_month)"
      ],
      "metadata": {
        "id": "VS_0KFXFMDkL"
      },
      "execution_count": null,
      "outputs": []
    },
    {
      "cell_type": "code",
      "source": [
        "# Quesiton 2c\n",
        "\n",
        "new_avg_month = avg_rides_month.merge(avg_rides_station, on=\"station_id\")\n",
        "new_avg_month[\"ratio\"] = new_avg_month[\"avg_rides_m\"] / new_avg_month[\"Avg_rides_day\"]\n",
        "\n",
        "top_10 = new_avg_month.sort_values(by=\"ratio\", ascending=False).head(10)\n",
        "\n",
        "print(top_10)"
      ],
      "metadata": {
        "id": "qlxLe3KWNqer"
      },
      "execution_count": null,
      "outputs": []
    },
    {
      "cell_type": "code",
      "source": [
        "# Question 2d\n",
        "\n",
        "sd_top10 = new_avg_month.groupby(['station_id', 'Month', 'ratio']).agg(sd_month=('avg_rides_m', np.std)).reset_index()\n",
        "sd_top10 = sd_top10.sort_values(by='sd_month', ascending=False).head(5)\n",
        "\n",
        "ggg = sns.lineplot(data=sd_top10, x='Month', y='ratio', hue='station_id')\n",
        "ggg.set(xlabel='Month', ylabel='Ratio')\n",
        "\n",
        "print(ggg)\n",
        "\n",
        "# I am not quite sure how to fix this graph"
      ],
      "metadata": {
        "id": "XWXXUjgaO8XI"
      },
      "execution_count": null,
      "outputs": []
    }
  ]
}