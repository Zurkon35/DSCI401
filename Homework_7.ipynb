{
  "nbformat": 4,
  "nbformat_minor": 0,
  "metadata": {
    "colab": {
      "provenance": [],
      "mount_file_id": "1qU3JFto7q01mIK_xOgHaJ6IHiHimRXHw",
      "authorship_tag": "ABX9TyOtnpllHvJ6XV7vJIjMIk1Y",
      "include_colab_link": true
    },
    "kernelspec": {
      "name": "python3",
      "display_name": "Python 3"
    },
    "language_info": {
      "name": "python"
    }
  },
  "cells": [
    {
      "cell_type": "markdown",
      "metadata": {
        "id": "view-in-github",
        "colab_type": "text"
      },
      "source": [
        "<a href=\"https://colab.research.google.com/github/Zurkon35/DSCI401/blob/main/Homework_7.ipynb\" target=\"_parent\"><img src=\"https://colab.research.google.com/assets/colab-badge.svg\" alt=\"Open In Colab\"/></a>"
      ]
    },
    {
      "cell_type": "code",
      "execution_count": null,
      "metadata": {
        "id": "GKnNDGS7UNCA"
      },
      "outputs": [],
      "source": [
        "import numpy as np\n",
        "import pandas as pd\n",
        "import matplotlib.pyplot as plt\n",
        "import seaborn as sns\n"
      ]
    },
    {
      "cell_type": "code",
      "source": [
        "test = pd.read_csv(\"/content/pulsar_data_test.csv\")\n",
        "train = pd.read_csv(\"/content/pulsar_data_train.csv\")"
      ],
      "metadata": {
        "id": "mRBvDqE9WKlW"
      },
      "execution_count": null,
      "outputs": []
    },
    {
      "cell_type": "code",
      "source": [
        "for i in train.columns:\n",
        "    train[i].fillna(0,inplace=True)\n",
        "\n",
        "train.isnull().sum()"
      ],
      "metadata": {
        "id": "-fiSxj1eXp8l"
      },
      "execution_count": null,
      "outputs": []
    },
    {
      "cell_type": "code",
      "source": [
        "y = train['target_class']\n",
        "X = train.drop('target_class', axis=1)\n",
        "X_train, X_val, y_train, y_val = train_test_split( X, y, test_size=0.2, shuffle=True, random_state=25, stratify=y)"
      ],
      "metadata": {
        "id": "82jvWp0MXtlN"
      },
      "execution_count": null,
      "outputs": []
    },
    {
      "cell_type": "code",
      "source": [
        "from sklearn.model_selection import train_test_split\n",
        "from sklearn.ensemble import RandomForestClassifier\n",
        "from sklearn.metrics import accuracy_score\n",
        "X_train, X_val, y_train, y_val = train_test_split( X, y, test_size=0.2, shuffle=True, random_state=25, stratify=y)\n",
        "X_train.shape, y_train.shape, X_val.shape, y_val.shape, X_test.shape"
      ],
      "metadata": {
        "id": "zZMzuh-ApHdW"
      },
      "execution_count": null,
      "outputs": []
    },
    {
      "cell_type": "code",
      "source": [
        "model_1=RandomForestClassifier(max_depth=2,random_state=2)\n",
        "model_1.fit(X_train,y_train)\n",
        "pred = model_1.predict(X_val)\n",
        "print(f'Accuracy of the training model is {(accuracy_score(y_val,pred)*100)}%')"
      ],
      "metadata": {
        "id": "SvtqMmG_tT9c"
      },
      "execution_count": null,
      "outputs": []
    },
    {
      "cell_type": "code",
      "source": [
        "import tensorflow as tf\n",
        "from tensorflow import keras\n",
        "print('Tensorflow version: ', tf.__version__)"
      ],
      "metadata": {
        "id": "0BXXnvGvpHfr"
      },
      "execution_count": null,
      "outputs": []
    },
    {
      "cell_type": "code",
      "source": [
        "model = keras.Sequential([\n",
        "    keras.layers.Dense(128, activation='relu', input_shape=(X_train.shape[1],)),\n",
        "    keras.layers.Dense(64, activation='relu'),\n",
        "    keras.layers.Dense(32, activation='relu'),\n",
        "    keras.layers.Dense(1, activation='sigmoid')\n",
        "])"
      ],
      "metadata": {
        "id": "g_ZYE1M1pbIj"
      },
      "execution_count": null,
      "outputs": []
    },
    {
      "cell_type": "code",
      "source": [
        "opt = keras.optimizers.Adam(learning_rate=0.01)\n",
        "model.compile(optimizer=opt,loss='binary_crossentropy',metrics=['accuracy'])\n",
        "model.summary()"
      ],
      "metadata": {
        "id": "t9BnB292phir"
      },
      "execution_count": null,
      "outputs": []
    },
    {
      "cell_type": "code",
      "source": [
        "model.fit(X_train, y_train, epochs=100, batch_size=33)\n",
        "test_loss, test_acc = model.evaluate(X_val, y_val)"
      ],
      "metadata": {
        "id": "H8efG2EWpkBW",
        "colab": {
          "base_uri": "https://localhost:8080/"
        },
        "outputId": "c478738b-e419-40ad-f012-13700edc65a1"
      },
      "execution_count": null,
      "outputs": [
        {
          "output_type": "stream",
          "name": "stdout",
          "text": [
            "Epoch 1/100\n",
            "304/304 [==============================] - 2s 6ms/step - loss: 0.0849 - accuracy: 0.9743\n",
            "Epoch 2/100\n",
            "304/304 [==============================] - 2s 6ms/step - loss: 0.0840 - accuracy: 0.9748\n",
            "Epoch 3/100\n",
            "304/304 [==============================] - 1s 3ms/step - loss: 0.0846 - accuracy: 0.9740\n",
            "Epoch 4/100\n",
            "304/304 [==============================] - 1s 3ms/step - loss: 0.0873 - accuracy: 0.9739\n",
            "Epoch 5/100\n",
            "304/304 [==============================] - 1s 2ms/step - loss: 0.0840 - accuracy: 0.9748\n",
            "Epoch 6/100\n",
            "304/304 [==============================] - 1s 3ms/step - loss: 0.0824 - accuracy: 0.9750\n",
            "Epoch 7/100\n",
            "304/304 [==============================] - 1s 4ms/step - loss: 0.0858 - accuracy: 0.9741\n",
            "Epoch 8/100\n",
            "304/304 [==============================] - 1s 4ms/step - loss: 0.0854 - accuracy: 0.9746\n",
            "Epoch 9/100\n",
            "304/304 [==============================] - 1s 4ms/step - loss: 0.0857 - accuracy: 0.9755\n",
            "Epoch 10/100\n",
            "304/304 [==============================] - 1s 4ms/step - loss: 0.0856 - accuracy: 0.9750\n",
            "Epoch 11/100\n",
            "304/304 [==============================] - 1s 4ms/step - loss: 0.0837 - accuracy: 0.9748\n",
            "Epoch 12/100\n",
            "304/304 [==============================] - 1s 4ms/step - loss: 0.0854 - accuracy: 0.9738\n",
            "Epoch 13/100\n",
            "304/304 [==============================] - 1s 3ms/step - loss: 0.0838 - accuracy: 0.9750\n",
            "Epoch 14/100\n",
            "304/304 [==============================] - 1s 3ms/step - loss: 0.0835 - accuracy: 0.9757\n",
            "Epoch 15/100\n",
            "304/304 [==============================] - 1s 2ms/step - loss: 0.0848 - accuracy: 0.9756\n",
            "Epoch 16/100\n",
            "304/304 [==============================] - 1s 3ms/step - loss: 0.0829 - accuracy: 0.9756\n",
            "Epoch 17/100\n",
            "304/304 [==============================] - 1s 3ms/step - loss: 0.0862 - accuracy: 0.9745\n",
            "Epoch 18/100\n",
            "304/304 [==============================] - 1s 3ms/step - loss: 0.0867 - accuracy: 0.9753\n",
            "Epoch 19/100\n",
            "304/304 [==============================] - 1s 3ms/step - loss: 0.0881 - accuracy: 0.9740\n",
            "Epoch 20/100\n",
            "304/304 [==============================] - 1s 4ms/step - loss: 0.0873 - accuracy: 0.9743\n",
            "Epoch 21/100\n",
            "304/304 [==============================] - 1s 3ms/step - loss: 0.0869 - accuracy: 0.9754\n",
            "Epoch 22/100\n",
            "304/304 [==============================] - 1s 3ms/step - loss: 0.0843 - accuracy: 0.9745\n",
            "Epoch 23/100\n",
            "304/304 [==============================] - 1s 3ms/step - loss: 0.0863 - accuracy: 0.9746\n",
            "Epoch 24/100\n",
            "304/304 [==============================] - 1s 4ms/step - loss: 0.0862 - accuracy: 0.9744\n",
            "Epoch 25/100\n",
            "304/304 [==============================] - 1s 4ms/step - loss: 0.0849 - accuracy: 0.9746\n",
            "Epoch 26/100\n",
            "304/304 [==============================] - 1s 4ms/step - loss: 0.0849 - accuracy: 0.9744\n",
            "Epoch 27/100\n",
            "304/304 [==============================] - 1s 5ms/step - loss: 0.0842 - accuracy: 0.9743\n",
            "Epoch 28/100\n",
            "304/304 [==============================] - 2s 6ms/step - loss: 0.0843 - accuracy: 0.9754\n",
            "Epoch 29/100\n",
            "304/304 [==============================] - 1s 4ms/step - loss: 0.0838 - accuracy: 0.9749\n",
            "Epoch 30/100\n",
            "304/304 [==============================] - 1s 3ms/step - loss: 0.0852 - accuracy: 0.9735\n",
            "Epoch 31/100\n",
            "304/304 [==============================] - 1s 3ms/step - loss: 0.0833 - accuracy: 0.9760\n",
            "Epoch 32/100\n",
            "304/304 [==============================] - 1s 3ms/step - loss: 0.0840 - accuracy: 0.9754\n",
            "Epoch 33/100\n",
            "304/304 [==============================] - 1s 2ms/step - loss: 0.0852 - accuracy: 0.9746\n",
            "Epoch 34/100\n",
            "304/304 [==============================] - 1s 3ms/step - loss: 0.0846 - accuracy: 0.9749\n",
            "Epoch 35/100\n",
            "304/304 [==============================] - 1s 3ms/step - loss: 0.0872 - accuracy: 0.9753\n",
            "Epoch 36/100\n",
            "304/304 [==============================] - 1s 3ms/step - loss: 0.0825 - accuracy: 0.9749\n",
            "Epoch 37/100\n",
            "304/304 [==============================] - 1s 3ms/step - loss: 0.0852 - accuracy: 0.9746\n",
            "Epoch 38/100\n",
            "304/304 [==============================] - 1s 3ms/step - loss: 0.0831 - accuracy: 0.9750\n",
            "Epoch 39/100\n",
            "304/304 [==============================] - 1s 3ms/step - loss: 0.0836 - accuracy: 0.9745\n",
            "Epoch 40/100\n",
            "304/304 [==============================] - 1s 3ms/step - loss: 0.0847 - accuracy: 0.9750\n",
            "Epoch 41/100\n",
            "304/304 [==============================] - 1s 4ms/step - loss: 0.0823 - accuracy: 0.9753\n",
            "Epoch 42/100\n",
            "304/304 [==============================] - 1s 4ms/step - loss: 0.0832 - accuracy: 0.9744\n",
            "Epoch 43/100\n",
            "304/304 [==============================] - 1s 4ms/step - loss: 0.0827 - accuracy: 0.9745\n",
            "Epoch 44/100\n",
            "304/304 [==============================] - 1s 4ms/step - loss: 0.0834 - accuracy: 0.9752\n",
            "Epoch 45/100\n",
            "304/304 [==============================] - 1s 4ms/step - loss: 0.0862 - accuracy: 0.9743\n",
            "Epoch 46/100\n",
            "304/304 [==============================] - 1s 4ms/step - loss: 0.0838 - accuracy: 0.9746\n",
            "Epoch 47/100\n",
            "304/304 [==============================] - 1s 4ms/step - loss: 0.0844 - accuracy: 0.9748\n",
            "Epoch 48/100\n",
            "304/304 [==============================] - 1s 3ms/step - loss: 0.0946 - accuracy: 0.9733\n",
            "Epoch 49/100\n",
            "304/304 [==============================] - 1s 2ms/step - loss: 0.1077 - accuracy: 0.9715\n",
            "Epoch 50/100\n",
            "304/304 [==============================] - 1s 3ms/step - loss: 0.0944 - accuracy: 0.9730\n",
            "Epoch 51/100\n",
            "304/304 [==============================] - 1s 3ms/step - loss: 0.0905 - accuracy: 0.9729\n",
            "Epoch 52/100\n",
            "304/304 [==============================] - 1s 3ms/step - loss: 0.0910 - accuracy: 0.9735\n",
            "Epoch 53/100\n",
            "304/304 [==============================] - 1s 3ms/step - loss: 0.0891 - accuracy: 0.9734\n",
            "Epoch 54/100\n",
            "304/304 [==============================] - 1s 2ms/step - loss: 0.0917 - accuracy: 0.9742\n",
            "Epoch 55/100\n",
            "304/304 [==============================] - 1s 3ms/step - loss: 0.1038 - accuracy: 0.9739\n",
            "Epoch 56/100\n",
            "304/304 [==============================] - 1s 3ms/step - loss: 0.0931 - accuracy: 0.9724\n",
            "Epoch 57/100\n",
            "304/304 [==============================] - 1s 3ms/step - loss: 0.0902 - accuracy: 0.9741\n",
            "Epoch 58/100\n",
            "304/304 [==============================] - 1s 3ms/step - loss: 0.1009 - accuracy: 0.9741\n",
            "Epoch 59/100\n",
            "304/304 [==============================] - 1s 3ms/step - loss: 0.0927 - accuracy: 0.9735\n",
            "Epoch 60/100\n",
            "304/304 [==============================] - 1s 3ms/step - loss: 0.0900 - accuracy: 0.9745\n",
            "Epoch 61/100\n",
            "304/304 [==============================] - 1s 4ms/step - loss: 0.0881 - accuracy: 0.9749\n",
            "Epoch 62/100\n",
            "304/304 [==============================] - 1s 4ms/step - loss: 0.0908 - accuracy: 0.9742\n",
            "Epoch 63/100\n",
            "304/304 [==============================] - 1s 4ms/step - loss: 0.0898 - accuracy: 0.9744\n",
            "Epoch 64/100\n",
            "304/304 [==============================] - 1s 4ms/step - loss: 0.0909 - accuracy: 0.9735\n",
            "Epoch 65/100\n",
            "304/304 [==============================] - 1s 4ms/step - loss: 0.0881 - accuracy: 0.9738\n",
            "Epoch 66/100\n",
            "304/304 [==============================] - 1s 4ms/step - loss: 0.0882 - accuracy: 0.9752\n",
            "Epoch 67/100\n",
            "304/304 [==============================] - 1s 2ms/step - loss: 0.0909 - accuracy: 0.9746\n",
            "Epoch 68/100\n",
            "304/304 [==============================] - 1s 3ms/step - loss: 0.0920 - accuracy: 0.9738\n",
            "Epoch 69/100\n",
            "304/304 [==============================] - 1s 2ms/step - loss: 0.0908 - accuracy: 0.9718\n",
            "Epoch 70/100\n",
            "304/304 [==============================] - 1s 2ms/step - loss: 0.0891 - accuracy: 0.9738\n",
            "Epoch 71/100\n",
            "304/304 [==============================] - 1s 2ms/step - loss: 0.0878 - accuracy: 0.9746\n",
            "Epoch 72/100\n",
            "304/304 [==============================] - 1s 3ms/step - loss: 0.0876 - accuracy: 0.9743\n",
            "Epoch 73/100\n",
            "304/304 [==============================] - 1s 2ms/step - loss: 0.0874 - accuracy: 0.9757\n",
            "Epoch 74/100\n",
            "304/304 [==============================] - 1s 2ms/step - loss: 0.0892 - accuracy: 0.9746\n",
            "Epoch 75/100\n",
            "304/304 [==============================] - 1s 2ms/step - loss: 0.0972 - accuracy: 0.9746\n",
            "Epoch 76/100\n",
            "304/304 [==============================] - 1s 2ms/step - loss: 0.0887 - accuracy: 0.9744\n",
            "Epoch 77/100\n",
            "304/304 [==============================] - 1s 2ms/step - loss: 0.0859 - accuracy: 0.9746\n",
            "Epoch 78/100\n",
            "304/304 [==============================] - 1s 3ms/step - loss: 0.0869 - accuracy: 0.9739\n",
            "Epoch 79/100\n",
            "304/304 [==============================] - 1s 3ms/step - loss: 0.0879 - accuracy: 0.9749\n",
            "Epoch 80/100\n",
            "304/304 [==============================] - 1s 4ms/step - loss: 0.0870 - accuracy: 0.9739\n",
            "Epoch 81/100\n",
            "304/304 [==============================] - 1s 3ms/step - loss: 0.0874 - accuracy: 0.9746\n",
            "Epoch 82/100\n",
            "304/304 [==============================] - 1s 4ms/step - loss: 0.0877 - accuracy: 0.9748\n",
            "Epoch 83/100\n",
            "304/304 [==============================] - 1s 4ms/step - loss: 0.0883 - accuracy: 0.9750\n",
            "Epoch 84/100\n",
            "304/304 [==============================] - 1s 4ms/step - loss: 0.0870 - accuracy: 0.9748\n",
            "Epoch 85/100\n",
            "304/304 [==============================] - 1s 4ms/step - loss: 0.0895 - accuracy: 0.9745\n",
            "Epoch 86/100\n",
            "304/304 [==============================] - 1s 3ms/step - loss: 0.0872 - accuracy: 0.9752\n",
            "Epoch 87/100\n",
            "304/304 [==============================] - 1s 3ms/step - loss: 0.0882 - accuracy: 0.9733\n",
            "Epoch 88/100\n",
            "304/304 [==============================] - 1s 3ms/step - loss: 0.0914 - accuracy: 0.9758\n",
            "Epoch 89/100\n",
            "304/304 [==============================] - 1s 2ms/step - loss: 0.0866 - accuracy: 0.9744\n",
            "Epoch 90/100\n",
            "304/304 [==============================] - 1s 3ms/step - loss: 0.0885 - accuracy: 0.9739\n",
            "Epoch 91/100\n",
            "304/304 [==============================] - 1s 3ms/step - loss: 0.0892 - accuracy: 0.9731\n",
            "Epoch 92/100\n",
            "304/304 [==============================] - 1s 3ms/step - loss: 0.0861 - accuracy: 0.9742\n",
            "Epoch 93/100\n",
            "304/304 [==============================] - 1s 3ms/step - loss: 0.0866 - accuracy: 0.9748\n",
            "Epoch 94/100\n",
            "304/304 [==============================] - 1s 3ms/step - loss: 0.0865 - accuracy: 0.9752\n",
            "Epoch 95/100\n",
            "304/304 [==============================] - 1s 3ms/step - loss: 0.0861 - accuracy: 0.9758\n",
            "Epoch 96/100\n",
            "304/304 [==============================] - 1s 3ms/step - loss: 0.0886 - accuracy: 0.9746\n",
            "Epoch 97/100\n",
            "304/304 [==============================] - 1s 2ms/step - loss: 0.0872 - accuracy: 0.9757\n",
            "Epoch 98/100\n",
            "304/304 [==============================] - 1s 3ms/step - loss: 0.0874 - accuracy: 0.9747\n",
            "Epoch 99/100\n",
            "304/304 [==============================] - 1s 4ms/step - loss: 0.0896 - accuracy: 0.9745\n",
            "Epoch 100/100\n",
            "304/304 [==============================] - 1s 4ms/step - loss: 0.0864 - accuracy: 0.9746\n",
            "79/79 [==============================] - 0s 3ms/step - loss: 0.0837 - accuracy: 0.9781\n"
          ]
        }
      ]
    },
    {
      "cell_type": "code",
      "source": [
        "y_pred = model.predict(X_val)\n",
        "y_pred"
      ],
      "metadata": {
        "colab": {
          "base_uri": "https://localhost:8080/"
        },
        "id": "--lclT2YpkIV",
        "outputId": "40ffc397-dfc8-421b-8441-d83a976f357c"
      },
      "execution_count": null,
      "outputs": [
        {
          "output_type": "stream",
          "name": "stdout",
          "text": [
            "79/79 [==============================] - 1s 7ms/step\n"
          ]
        },
        {
          "output_type": "execute_result",
          "data": {
            "text/plain": [
              "array([[0.00640874],\n",
              "       [0.00640874],\n",
              "       [0.00640874],\n",
              "       ...,\n",
              "       [0.00640874],\n",
              "       [0.4613695 ],\n",
              "       [0.00640874]], dtype=float32)"
            ]
          },
          "metadata": {},
          "execution_count": 114
        }
      ]
    },
    {
      "cell_type": "code",
      "source": [
        "predictions = model.predict(X_val)\n",
        "predictions"
      ],
      "metadata": {
        "colab": {
          "base_uri": "https://localhost:8080/"
        },
        "id": "AQzDW0bgp0Ok",
        "outputId": "d7803948-0fb7-4d7f-d193-e804220024c4"
      },
      "execution_count": null,
      "outputs": [
        {
          "output_type": "stream",
          "name": "stdout",
          "text": [
            "79/79 [==============================] - 0s 4ms/step\n"
          ]
        },
        {
          "output_type": "execute_result",
          "data": {
            "text/plain": [
              "array([[0.00640874],\n",
              "       [0.00640874],\n",
              "       [0.00640874],\n",
              "       ...,\n",
              "       [0.00640874],\n",
              "       [0.4613695 ],\n",
              "       [0.00640874]], dtype=float32)"
            ]
          },
          "metadata": {},
          "execution_count": 119
        }
      ]
    },
    {
      "cell_type": "code",
      "source": [
        "predictions_flat = predictions.flatten()\n",
        "\n",
        "predictions_df = pd.DataFrame({'Predictions': predictions_flat})\n",
        "\n",
        "predictions_df.to_csv('predictions.csv', index=False)"
      ],
      "metadata": {
        "id": "n2X3Q1mOyz8R"
      },
      "execution_count": null,
      "outputs": []
    }
  ]
}